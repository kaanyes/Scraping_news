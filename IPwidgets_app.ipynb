{
 "cells": [
  {
   "cell_type": "code",
   "execution_count": 129,
   "metadata": {},
   "outputs": [
    {
     "name": "stderr",
     "output_type": "stream",
     "text": [
      "[nltk_data] Downloading package vader_lexicon to\n",
      "[nltk_data]     /Users/kaganyesilova/nltk_data...\n",
      "[nltk_data]   Package vader_lexicon is already up-to-date!\n"
     ]
    }
   ],
   "source": [
    "from bs4 import BeautifulSoup\n",
    "import requests\n",
    "import ipywidgets as widgets\n",
    "import pandas as pd\n",
    "from nltk.sentiment.vader import SentimentIntensityAnalyzer\n",
    "import nltk\n",
    "nltk.download('vader_lexicon')\n",
    "import matplotlib.pyplot as plt\n",
    "%matplotlib inline\n"
   ]
  },
  {
   "cell_type": "code",
   "execution_count": 130,
   "metadata": {},
   "outputs": [],
   "source": [
    "output_url = widgets.Text()\n",
    "input_url = widgets.Text()\n",
    "\n",
    "def cre_var(sender):\n",
    "    output_url.value = input_url.value\n",
    "\n",
    "input_url.on_submit(cre_var)\n",
    "\n",
    "output_url_1 = widgets.Text()\n",
    "input_url_1 = widgets.Text()\n",
    "\n",
    "def cre_var_1(sender):\n",
    "    output_url_1.value = input_url_1.value\n",
    "\n",
    "input_url_1.on_submit(cre_var_1)"
   ]
  },
  {
   "cell_type": "code",
   "execution_count": 131,
   "metadata": {},
   "outputs": [],
   "source": [
    "def find_news():\n",
    "    \n",
    "    response = requests.get(output_url.value, timeout=10)\n",
    "    url_content = BeautifulSoup(response.content, 'html.parser')\n",
    "    \n",
    "    return url_content\n",
    "\n",
    "def find_KD():\n",
    "    \n",
    "    response = requests.get(output_url_1.value, timeout=10)\n",
    "    url_content_1 = BeautifulSoup(response.content, 'html.parser')\n",
    "    \n",
    "    return url_content_1\n",
    "\n"
   ]
  },
  {
   "cell_type": "code",
   "execution_count": 132,
   "metadata": {},
   "outputs": [],
   "source": [
    "def make_news_list(html):\n",
    "\n",
    "    news_divs = html.find_all('div', attrs={'class':\"item\"})\n",
    "\n",
    "    news_heads = []\n",
    "\n",
    "    for i in range(len(news_divs)):\n",
    "    \n",
    "        news_heads.append(news_divs[i].a.get_text())\n",
    "    \n",
    "    \n",
    "    df_n = pd.DataFrame(news_heads)\n",
    "\n",
    "    df_n.columns = ['news']\n",
    "    \n",
    "    return df_n\n",
    "\n",
    "def make_KD_list(html):\n",
    "\n",
    "    news_divs = html.find_all('div', attrs={'class':\"item\"})\n",
    "\n",
    "    news_heads = []\n",
    "\n",
    "    for i in range(len(news_divs)):\n",
    "    \n",
    "        news_heads.append(news_divs[i].h4.get_text())\n",
    "    \n",
    "    \n",
    "    df_k = pd.DataFrame(news_heads)\n",
    "\n",
    "    df_k.columns = ['news']\n",
    "    \n",
    "\n",
    "    return df_k\n"
   ]
  },
  {
   "cell_type": "code",
   "execution_count": 133,
   "metadata": {},
   "outputs": [],
   "source": [
    "def cal_score(df_news):\n",
    "    scores = []\n",
    "    vader = SentimentIntensityAnalyzer()\n",
    "    for head in (df_news['news']):\n",
    "        score = vader.polarity_scores(head)\n",
    "        scores.append(score)\n",
    "    df_scr = pd.DataFrame(scores)\n",
    "    return df_scr\n",
    "\n"
   ]
  },
  {
   "cell_type": "code",
   "execution_count": 134,
   "metadata": {},
   "outputs": [],
   "source": [
    "def merg_df():\n",
    "    return df_news.join(df_scr)\n",
    "\n",
    "\n"
   ]
  },
  {
   "cell_type": "code",
   "execution_count": 135,
   "metadata": {},
   "outputs": [
    {
     "data": {
      "image/png": "[encoded data removed]",
      "text/plain": [
       "<Figure size 432x288 with 4 Axes>"
      ]
     },
     "metadata": {
      "needs_background": "light"
     },
     "output_type": "display_data"
    }
   ],
   "source": [
    "\n",
    "df.plot.bar(subplots=True)\n",
    "\n",
    "plt.show()"
   ]
  },
  {
   "cell_type": "code",
   "execution_count": null,
   "metadata": {},
   "outputs": [],
   "source": []
  },
  {
   "cell_type": "code",
   "execution_count": null,
   "metadata": {},
   "outputs": [],
   "source": []
  },
  {
   "cell_type": "code",
   "execution_count": 140,
   "metadata": {},
   "outputs": [],
   "source": [
    "#out = widgets.Output(layout={'border': '1px solid black'})\n",
    "\n",
    "button_url_1 = widgets.Button(\n",
    "    description = 'Get News',\n",
    "    disabled = False,\n",
    "    button_style = 'info',\n",
    "    tooltip = 'Click to Preview',\n",
    "    icon = 'search'\n",
    ")\n",
    "\n",
    "button_url_2 = widgets.Button(\n",
    "    description = 'Get Key Dev.',\n",
    "    disabled = False,\n",
    "    button_style = 'info',\n",
    "    tooltip = 'Click to Preview',\n",
    "    icon = 'search'\n",
    ")\n",
    "\n",
    "button_upload = widgets.Button(\n",
    "    description = 'Upload',\n",
    "    disabled = False,\n",
    "    button_style = 'warning',\n",
    "    tooltip = 'Click to Upload',\n",
    "    icon = 'check'\n",
    ")\n",
    "\n",
    "button_upload\n",
    "\n",
    "    \n",
    "def preview_clicked_1(b):\n",
    "    out = widgets.Output(layout={'border': '1px solid black'})\n",
    "    \n",
    "    df_n = make_news_list(find_news())\n",
    "    \n",
    "    with out:\n",
    "        out.clear_output()\n",
    "        print('İşte Haberler: ')\n",
    "        print(df_n['news'])\n",
    "    \n",
    "    #df_n = make_news_list(find_news())\n",
    "    #print(df_n['news'])\n",
    "\n",
    "def preview_clicked_2(b):\n",
    "    df_k = make_KD_list(find_KD())\n",
    "    print(df_k['news'])\n",
    "    \n",
    "button_url_1.on_click(preview_clicked_1)\n",
    "    \n",
    "button_url_2.on_click(preview_clicked_2)"
   ]
  },
  {
   "cell_type": "code",
   "execution_count": 141,
   "metadata": {},
   "outputs": [],
   "source": [
    "tab1 = widgets.Tab()\n",
    "placeholder = widgets.Label()\n",
    "\n",
    "tab1.children = [input_url, button_url_1, placeholder]\n",
    "\n",
    "tab1.set_title(0, 'Url')\n",
    "tab1.set_title(1, 'News')\n",
    "tab1.set_title(2, 'Result')\n",
    "\n"
   ]
  },
  {
   "cell_type": "code",
   "execution_count": 142,
   "metadata": {},
   "outputs": [],
   "source": [
    "tab2 = widgets.Tab()\n",
    "placeholder = widgets.Label()\n",
    "\n",
    "tab2.children = [input_url_1, button_url_2, placeholder]\n",
    "\n",
    "tab2.set_title(0, 'Url')\n",
    "tab2.set_title(1, 'Key Dev.')\n",
    "tab2.set_title(2, 'Result')\n",
    "\n"
   ]
  },
  {
   "cell_type": "code",
   "execution_count": 143,
   "metadata": {},
   "outputs": [
    {
     "data": {
      "application/vnd.jupyter.widget-view+json": {
       "model_id": "d7b2479e8465491bb2f4578146b4078e",
       "version_major": 2,
       "version_minor": 0
      },
      "text/plain": [
       "Accordion(children=(Tab(children=(Text(value='https://www.reuters.com/companies/ASELS.IS/news'), Button(button…"
      ]
     },
     "metadata": {},
     "output_type": "display_data"
    }
   ],
   "source": [
    "accordion = widgets.Accordion()\n",
    "\n",
    "accordion.children = (\n",
    "    tab1,\n",
    "    tab2\n",
    ")\n",
    "\n",
    "accordion.set_title(0, 'For News')\n",
    "accordion.set_title(1, 'For Key Developments')\n",
    "\n",
    "accordion"
   ]
  },
  {
   "cell_type": "code",
   "execution_count": null,
   "metadata": {},
   "outputs": [],
   "source": []
  },
  {
   "cell_type": "code",
   "execution_count": null,
   "metadata": {},
   "outputs": [],
   "source": []
  }
 ],
 "metadata": {
  "kernelspec": {
   "display_name": "Python 3",
   "language": "python",
   "name": "python3"
  },
  "language_info": {
   "codemirror_mode": {
    "name": "ipython",
    "version": 3
   },
   "file_extension": ".py",
   "mimetype": "text/x-python",
   "name": "python",
   "nbconvert_exporter": "python",
   "pygments_lexer": "ipython3",
   "version": "3.7.3"
  }
 },
 "nbformat": 4,
 "nbformat_minor": 2
}
